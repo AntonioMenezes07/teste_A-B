{
  "nbformat": 4,
  "nbformat_minor": 0,
  "metadata": {
    "colab": {
      "provenance": [],
      "authorship_tag": "ABX9TyP2lHaNP9Ktzrs7+xenszq5",
      "include_colab_link": true
    },
    "kernelspec": {
      "name": "python3",
      "display_name": "Python 3"
    },
    "language_info": {
      "name": "python"
    }
  },
  "cells": [
    {
      "cell_type": "markdown",
      "metadata": {
        "id": "view-in-github",
        "colab_type": "text"
      },
      "source": [
        "<a href=\"https://colab.research.google.com/github/AntonioMenezes07/teste_A-B/blob/main/teste_A_B.ipynb\" target=\"_parent\"><img src=\"https://colab.research.google.com/assets/colab-badge.svg\" alt=\"Open In Colab\"/></a>"
      ]
    },
    {
      "cell_type": "markdown",
      "source": [
        "#**Teste A/B**"
      ],
      "metadata": {
        "id": "k_hHq5ZqLjfQ"
      }
    },
    {
      "cell_type": "markdown",
      "source": [
        "##**O que é o Teste A/B?**\n",
        "O Teste A/B, também conhecido como Split Testing, é um método experimental que compara duas versões de um mesmo elemento para determinar qual delas performa melhor. Em sua essência, ele envolve mostrar a duas diferentes amostras de usuários (ou público-alvo) uma versão distinta (A ou B) de algo, como uma página da web, um e-mail, um anúncio, um recurso de produto, etc., e então medir qual versão gera os melhores resultados para um objetivo específico."
      ],
      "metadata": {
        "id": "wilnGGKj7Lir"
      }
    },
    {
      "cell_type": "markdown",
      "source": [
        "##**Como funciona?**\n",
        "**Definição do Objetivo:** Primeiramente, você precisa ter um objetivo claro e mensurável. Por exemplo, aumentar a taxa de cliques (CTR) em um botão, melhorar a taxa de conversão em uma página de vendas, ou reduzir a taxa de rejeição.\n",
        "\n",
        "**Criação das Versões:** Crie duas versões do elemento que você deseja testar. A Versão A (controle) é a versão existente ou original, enquanto a Versão B (variação) é a versão com a modificação que você acredita que pode trazer melhorias.\n",
        "\n",
        "**Divisão do Tráfego:** O tráfego de usuários é dividido aleatoriamente entre as duas versões. Metade (ou outra proporção definida) dos usuários verá a Versão A, e a outra metade verá a Versão B. É crucial que a divisão seja aleatória para garantir que as amostras sejam comparáveis e que fatores externos não influenciem os resultados.\n",
        "\n",
        "**Coleta e Análise de Dados:** Durante um período pré-determinado, os dados de desempenho de ambas as versões são coletados. Isso pode incluir cliques, conversões, tempo na página, etc. Após a coleta, técnicas estatísticas são aplicadas para determinar se a diferença nos resultados entre a Versão A e a Versão B é estatisticamente significativa, ou seja, se não é apenas resultado do acaso.\n",
        "\n",
        "**Tomada de Decisão:** Com base na análise estatística, uma decisão é tomada. Se a Versão B performou significativamente melhor, ela pode ser implementada para todos os usuários. Se não houve diferença significativa, ou a Versão A foi melhor, você pode descartar a mudança ou testar outras variações.\n"
      ],
      "metadata": {
        "id": "-0_EkXSq7WV-"
      }
    },
    {
      "cell_type": "markdown",
      "source": [
        "##**Por que usar Testes A/B?**\n",
        "Os Testes A/B são ferramentas poderosas para a otimização, pois permitem que as equipes tomem decisões baseadas em dados concretos, em vez de suposições ou intuições. Eles são amplamente utilizados em marketing digital, desenvolvimento de produtos, design de interfaces e muitas outras áreas para otimizar a experiência do usuário e impulsionar métricas de negócios."
      ],
      "metadata": {
        "id": "zVXGrpXH7lWb"
      }
    },
    {
      "cell_type": "markdown",
      "source": [
        "##**Uma forma descomplicada de entender o valor-p:**\n",
        "Supondo que a diferença entre o cenário A e o cenário B não seja relevante, o valor-p representa a chance de essa diferença ser apenas fruto do acaso. Por padrão, o valor crítico é 5%. Ou seja:\n",
        "\n",
        "Se o valor-p for menor que 5%, é improvável que a diferença seja apenas sorte, então rejeitamos H₀ (há indícios de que a diferença é real).\n",
        "\n",
        "Se o valor-p for maior que 5%, é provável que a diferença seja por acaso, então não rejeitamos H₀ (a diferença não é significativa).\n",
        "\n",
        "Definição das hipóteses:\n",
        "\n",
        "H₀: X é igual a Y\n",
        "\n",
        "H₁: X é diferente de Y\n",
        "\n",
        "Portanto, se o valor-p for menor que 5%, podemos dizer que a diferença entre X e Y é estatisticamente significativa. Caso contrário, não há evidência suficiente para afirmar que X e Y são diferentes."
      ],
      "metadata": {
        "id": "5rA0s6WNFrpw"
      }
    },
    {
      "cell_type": "markdown",
      "source": [
        "# **entendimento do projeto:**\n",
        "neste projeto sera realizado alguns testes A/B para diversas situacoes, entre elas:\n",
        "- Avaliação de Design de Site\n",
        "- Preços\n",
        "- Avaliação de Email Marketing\n",
        "- Avaliação de Tempo no Site\n",
        "-  Avaliação de Taxa de Rejeição.\n",
        "\n",
        "**OBS:** para cada situacao foi definido duas hipoteses:\n",
        "###H0: X e igual a Y\n",
        "###H1: X  e diferente de Y\n",
        "\n"
      ],
      "metadata": {
        "id": "dWAUelR6Ul4d"
      }
    },
    {
      "cell_type": "markdown",
      "source": [
        "#**importação de biblioteca**"
      ],
      "metadata": {
        "id": "YN9jCBVfVEPL"
      }
    },
    {
      "cell_type": "code",
      "execution_count": 10,
      "metadata": {
        "id": "AYHc91qLUWC-"
      },
      "outputs": [],
      "source": [
        "from statsmodels.stats.proportion import proportions_ztest\n",
        "from scipy.stats import ttest_ind_from_stats\n",
        "import numpy as np"
      ]
    },
    {
      "cell_type": "markdown",
      "source": [
        "#**1 - Avaliação de Design de Site**"
      ],
      "metadata": {
        "id": "Q1F1cl1TVZ1l"
      }
    },
    {
      "cell_type": "markdown",
      "source": [
        " **descricao:**\n",
        " Uma empresa de e-commerce deseja avaliar se um novo design de sua página de produto leva a uma maior taxa de cliques (CTR) em seus produtos. Durante uma semana, eles mostraram o design antigo a 1.000 visitantes e o novo design a 1.000 outros visitantes. O design antigo levou a 150 cliques, enquanto o novo design levou a 180 cliques.\n",
        "\n"
      ],
      "metadata": {
        "id": "efOz8gJQVjSG"
      }
    },
    {
      "cell_type": "code",
      "source": [
        "#visitantes\n",
        "n_a = 1000\n",
        "n_b = 1000\n",
        "\n",
        "#numero de conversao\n",
        "conversions_A = 150\n",
        "conversions_B = 180\n",
        "\n",
        "# Dados\n",
        "count = np.array([conversions_A, conversions_B])\n",
        "nobs = np.array([n_a, n_b])\n",
        "\n",
        "# Usando a função proportions_ztest\n",
        "z_value, p_value_statsmodels = proportions_ztest(count, nobs)\n",
        "\n",
        "z_value, p_value_statsmodels\n",
        "print(f'Z-value: {z_value:.4f}')\n",
        "print(f'P-value: {p_value_statsmodels:.4f}')"
      ],
      "metadata": {
        "colab": {
          "base_uri": "https://localhost:8080/"
        },
        "id": "26vi0Nb_Vgn_",
        "outputId": "caf052fb-f95a-47f1-c755-d9603cbe4481"
      },
      "execution_count": 6,
      "outputs": [
        {
          "output_type": "stream",
          "name": "stdout",
          "text": [
            "Z-value: -1.8073\n",
            "P-value: 0.0707\n"
          ]
        }
      ]
    },
    {
      "cell_type": "markdown",
      "source": [
        "Como o valor-p foi maior que 0,05, não podemos rejeitar a hipótese de que o novo design tem o mesmo número de cliques que o design antigo.\n",
        "Portanto, não há evidência estatística suficiente para afirmar que o novo design é melhor."
      ],
      "metadata": {
        "id": "ejBEdxYeJFYv"
      }
    },
    {
      "cell_type": "markdown",
      "source": [
        "#**2 - Teste A/B para Preços**\n"
      ],
      "metadata": {
        "id": "nQIUGWtJJtYo"
      }
    },
    {
      "cell_type": "markdown",
      "source": [
        "Uma empresa SaaS (Software as a Service) está considerando aumentar o preço de sua assinatura mensal de 20 reais para 25 reais. Eles testam a nova estrutura de preços em 500 visitantes e mantêm o preço antigo para outros 500 visitantes. Com o preço antigo, 200 usuários se inscreveram, enquanto com o novo preço, 180 usuários se inscreveram. O novo preço é vantajoso para a empresa?"
      ],
      "metadata": {
        "id": "Etm_qOBYJ3_v"
      }
    },
    {
      "cell_type": "code",
      "source": [
        "#visitantes\n",
        "n_a = 500\n",
        "n_b = 500\n",
        "\n",
        "#numero de conversao\n",
        "conversions_A = 200\n",
        "conversions_B = 180\n",
        "# Dados\n",
        "count = np.array([conversions_A, conversions_B])\n",
        "nobs = np.array([n_a, n_b])\n",
        "\n",
        "# Usando a função proportions_ztest\n",
        "z_value, p_value_statsmodels = proportions_ztest(count, nobs)\n",
        "\n",
        "z_value, p_value_statsmodels\n",
        "print(f'Z-value: {z_value:.4f}')\n",
        "print(f'P-value: {p_value_statsmodels:.4f}')"
      ],
      "metadata": {
        "colab": {
          "base_uri": "https://localhost:8080/"
        },
        "id": "B6FIXs1vJ4y0",
        "outputId": "21e3bd6a-b316-453f-d0d7-3f550ce59fa1"
      },
      "execution_count": 7,
      "outputs": [
        {
          "output_type": "stream",
          "name": "stdout",
          "text": [
            "Z-value: 1.3030\n",
            "P-value: 0.1926\n"
          ]
        }
      ]
    },
    {
      "cell_type": "markdown",
      "source": [
        "Como o valor-p foi superior a 0,05, não podemos descartar a hipótese de que os dois preços são iguais.\n",
        "Portanto, não há evidência estatística suficiente para afirmar que o novo preço é melhor."
      ],
      "metadata": {
        "id": "_ChlVFtnKWLQ"
      }
    },
    {
      "cell_type": "markdown",
      "source": [
        "#**3 - Avaliação de Email Marketing**\n"
      ],
      "metadata": {
        "id": "kCUE6B73Kucd"
      }
    },
    {
      "cell_type": "markdown",
      "source": [
        "Uma empresa de varejo online decidiu testar duas versões diferentes de um email promocional. O email da Versão A foi enviado para 2.000 clientes e teve uma taxa de abertura de 20%. O email da Versão B foi enviado para 2.500 clientes e teve uma taxa de abertura de 22%. Qual versão do email teve melhor desempenho?"
      ],
      "metadata": {
        "id": "7tfKK8bhK35D"
      }
    },
    {
      "cell_type": "code",
      "source": [
        "# numero de emails enviados\n",
        "n_a = 2000\n",
        "n_b = 2500\n",
        "\n",
        "# taxa de abertura\n",
        "conversions_A = 400\n",
        "conversions_B = 550\n",
        "\n",
        "# Dados\n",
        "count = np.array([conversions_A, conversions_B])\n",
        "nobs = np.array([n_a, n_b])\n",
        "\n",
        "# Usando a função proportions_ztest\n",
        "z_value, p_value_statsmodels = proportions_ztest(count, nobs)\n",
        "\n",
        "z_value, p_value_statsmodels\n",
        "print(f'Z-value: {z_value:.4f}')\n",
        "print(f'P-value: {p_value_statsmodels:.4f}')"
      ],
      "metadata": {
        "colab": {
          "base_uri": "https://localhost:8080/"
        },
        "id": "B1xVh2x0K40r",
        "outputId": "7c11db4a-cdf7-45d2-bc4c-1c93de5cb998"
      },
      "execution_count": 9,
      "outputs": [
        {
          "output_type": "stream",
          "name": "stdout",
          "text": [
            "Z-value: -1.6336\n",
            "P-value: 0.1023\n"
          ]
        }
      ]
    },
    {
      "cell_type": "markdown",
      "source": [
        "Como o valor-p foi superior a 0,05, não podemos descartar a hipótese de que os dois tipos de e-mails são equivalentes.\n",
        "Portanto, não há evidência estatística suficiente para afirmar que o novo e-mail é melhor."
      ],
      "metadata": {
        "id": "XcpwL31YMZ9k"
      }
    },
    {
      "cell_type": "markdown",
      "source": [
        "#**4 - Avaliação de Tempo no Site**"
      ],
      "metadata": {
        "id": "vSnobvO6MrRV"
      }
    },
    {
      "cell_type": "markdown",
      "source": [
        "Uma plataforma de notícias online implementou uma nova característica que sugere artigos relacionados ao usuário. Eles querem testar se essa característica aumenta o tempo médio que um usuário passa no site. Eles implementam o novo recurso para 1.500 usuários e veem um tempo médio de permanência de 5,2 minutos, com um desvio padrão de 1,5 minutos. Para 1.700 usuários sem o novo recurso, o tempo médio de permanência foi de 5 minutos com um desvio padrão de 1,4 minutos. A nova característica fez alguma diferença?\n",
        "\n"
      ],
      "metadata": {
        "id": "efF1tnzPMxEr"
      }
    },
    {
      "cell_type": "code",
      "source": [
        "# Média, desvio padrão e tamanho das amostras\n",
        "media_com_recurso = 5.2\n",
        "dp_com_recurso = 1.5\n",
        "n_com_recurso = 1500\n",
        "\n",
        "media_sem_recurso = 5.0\n",
        "dp_sem_recurso = 1.4\n",
        "n_sem_recurso = 1700\n",
        "\n",
        "# Teste t com os dados estatísticos (sem gerar dados aleatórios)\n",
        "t_stat, p_valor = ttest_ind_from_stats(\n",
        "    mean1=media_com_recurso, std1=dp_com_recurso, nobs1=n_com_recurso,\n",
        "    mean2=media_sem_recurso, std2=dp_sem_recurso, nobs2=n_sem_recurso,\n",
        "    equal_var=False  # variâncias diferentes\n",
        ")\n",
        "\n",
        "print(\"Estatística t:\", t_stat)\n",
        "print(\"Valor p:\", p_valor)"
      ],
      "metadata": {
        "colab": {
          "base_uri": "https://localhost:8080/"
        },
        "id": "MYdMmy8_M7p4",
        "outputId": "7ef0a07b-ab1b-4d82-e7e2-792a60776172"
      },
      "execution_count": 11,
      "outputs": [
        {
          "output_type": "stream",
          "name": "stdout",
          "text": [
            "Estatística t: 3.882989225005368\n",
            "Valor p: 0.000105345216584296\n"
          ]
        }
      ]
    },
    {
      "cell_type": "markdown",
      "source": [
        "Como o valor-p foi inferior a 0,05, pode-se afirmar que existe uma diferença significativa entre as duas situações.\n",
        "Portanto, o novo recurso deve ser implementado."
      ],
      "metadata": {
        "id": "UsaaiUPAO0X9"
      }
    },
    {
      "cell_type": "markdown",
      "source": [
        " # **5 - Avaliação de Taxa de Rejeição**"
      ],
      "metadata": {
        "id": "isYWiIhJPHds"
      }
    },
    {
      "cell_type": "markdown",
      "source": [
        "Uma empresa de software deseja testar se um novo tutorial de introdução ao seu software reduz a taxa de rejeição de novos usuários.\n",
        "\n",
        "Com tutorial: 1.200 usuários, dos quais 400 abandonaram o software no primeiro uso.\n",
        "\n",
        "Sem tutorial: 1.100 usuários, dos quais 500 abandonaram no primeiro uso.\n",
        "\n",
        "A pergunta é: o tutorial fez alguma diferença estatisticamente significativa na taxa de rejeição?"
      ],
      "metadata": {
        "id": "LAcFriBNPNoi"
      }
    },
    {
      "cell_type": "code",
      "source": [
        "# numero de usuarios\n",
        "n_a = 1200\n",
        "n_b = 1100\n",
        "\n",
        "# taxa de abertura\n",
        "conversions_A = 400\n",
        "conversions_B = 500\n",
        "\n",
        "# Dados\n",
        "count = np.array([conversions_A, conversions_B])\n",
        "nobs = np.array([n_a, n_b])\n",
        "\n",
        "# Usando a função proportions_ztest\n",
        "z_value, p_value_statsmodels = proportions_ztest(count, nobs)\n",
        "\n",
        "z_value, p_value_statsmodels\n",
        "print(f'Z-value: {z_value:.4f}')\n",
        "print(f'P-value: {p_value_statsmodels:.4f}')"
      ],
      "metadata": {
        "colab": {
          "base_uri": "https://localhost:8080/"
        },
        "id": "Ludf7ZYXPPhA",
        "outputId": "82b860e9-3509-4970-ab2f-af0a4499c566"
      },
      "execution_count": 12,
      "outputs": [
        {
          "output_type": "stream",
          "name": "stdout",
          "text": [
            "Z-value: -5.9499\n",
            "P-value: 0.0000\n"
          ]
        }
      ]
    },
    {
      "cell_type": "markdown",
      "source": [
        "Como o valor-p foi muito inferior a 0,05, pode-se afirmar que a presença do tutorial faz diferença e, portanto, deve ser implementada."
      ],
      "metadata": {
        "id": "t51X99YiQC0V"
      }
    }
  ]
}